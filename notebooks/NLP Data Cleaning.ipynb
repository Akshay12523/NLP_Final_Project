{
 "cells": [
  {
   "cell_type": "markdown",
   "metadata": {},
   "source": [
    "## Import Packages and Data"
   ]
  },
  {
   "cell_type": "code",
   "execution_count": 1,
   "metadata": {},
   "outputs": [],
   "source": [
    "# Standard\n",
    "import pandas as pd\n",
    "import numpy as np\n",
    "import matplotlib.pyplot as plt\n",
    "%matplotlib inline\n",
    "import seaborn as sns\n",
    "import warnings; warnings.simplefilter('ignore')\n",
    "import re\n",
    "\n",
    "# Machine Learning\n",
    "from scipy import stats\n",
    "import sklearn\n",
    "from sklearn import datasets\n",
    "from sklearn.feature_extraction.text import CountVectorizer\n",
    "from sklearn.feature_extraction.text import TfidfVectorizer\n",
    "from sklearn.metrics import confusion_matrix, precision_score, precision_recall_curve, recall_score, f1_score\n",
    "from sklearn.naive_bayes import MultinomialNB\n",
    "from sklearn.linear_model import LogisticRegression\n",
    "from sklearn.metrics.pairwise import cosine_similarity\n",
    "from sklearn.model_selection import train_test_split\n",
    "\n",
    "# NLP \n",
    "import string\n",
    "from ast import literal_eval\n",
    "from sklearn.feature_extraction.text import TfidfVectorizer, CountVectorizer\n",
    "from sklearn.metrics.pairwise import linear_kernel, cosine_similarity\n",
    "from nltk.stem.snowball import PorterStemmer\n",
    "from nltk.stem.wordnet import WordNetLemmatizer\n",
    "from nltk.corpus import wordnet\n",
    "from nltk.tokenize import RegexpTokenizer\n",
    "import nltk\n",
    "# nltk.download('wordnet')\n",
    "from wordcloud import WordCloud, STOPWORDS, ImageColorGenerator\n",
    "from textblob import TextBlob\n",
    "from vaderSentiment.vaderSentiment import SentimentIntensityAnalyzer"
   ]
  },
  {
   "cell_type": "code",
   "execution_count": 2,
   "metadata": {},
   "outputs": [],
   "source": [
    "earnings_calls_data = r\"C:\\Users\\AnEnt\\Documents\\MSBA\\BANA 275 - NLP\\Project\\earning_calls.csv\"\n",
    "df1 = pd.read_csv(earnings_calls_data)"
   ]
  },
  {
   "cell_type": "code",
   "execution_count": 3,
   "metadata": {},
   "outputs": [
    {
     "data": {
      "text/html": [
       "<div>\n",
       "<style scoped>\n",
       "    .dataframe tbody tr th:only-of-type {\n",
       "        vertical-align: middle;\n",
       "    }\n",
       "\n",
       "    .dataframe tbody tr th {\n",
       "        vertical-align: top;\n",
       "    }\n",
       "\n",
       "    .dataframe thead th {\n",
       "        text-align: right;\n",
       "    }\n",
       "</style>\n",
       "<table border=\"1\" class=\"dataframe\">\n",
       "  <thead>\n",
       "    <tr style=\"text-align: right;\">\n",
       "      <th></th>\n",
       "      <th>href</th>\n",
       "      <th>Transcript</th>\n",
       "      <th>Ticker</th>\n",
       "      <th>Index</th>\n",
       "    </tr>\n",
       "  </thead>\n",
       "  <tbody>\n",
       "    <tr>\n",
       "      <th>0</th>\n",
       "      <td>/earnings/call-transcripts/2020/04/30/apple-in...</td>\n",
       "      <td>[\"OperatorGood day, everyone. Welcome to the A...</td>\n",
       "      <td>aapl</td>\n",
       "      <td>1</td>\n",
       "    </tr>\n",
       "    <tr>\n",
       "      <th>1</th>\n",
       "      <td>/earnings/call-transcripts/2020/01/28/apple-in...</td>\n",
       "      <td>['Contents:', '', 'Prepared Remarks', 'Questio...</td>\n",
       "      <td>aapl</td>\n",
       "      <td>2</td>\n",
       "    </tr>\n",
       "    <tr>\n",
       "      <th>2</th>\n",
       "      <td>/earnings/call-transcripts/2019/10/30/apple-in...</td>\n",
       "      <td>[\"OperatorGood day, everyone. Welcome to the A...</td>\n",
       "      <td>aapl</td>\n",
       "      <td>3</td>\n",
       "    </tr>\n",
       "    <tr>\n",
       "      <th>3</th>\n",
       "      <td>/earnings/call-transcripts/2019/07/30/apple-in...</td>\n",
       "      <td>['Contents:', '', 'Prepared Remarks', 'Questio...</td>\n",
       "      <td>aapl</td>\n",
       "      <td>4</td>\n",
       "    </tr>\n",
       "    <tr>\n",
       "      <th>4</th>\n",
       "      <td>/earnings/call-transcripts/2019/04/30/apple-in...</td>\n",
       "      <td>['Prepared Remarks:', 'Operator', \"Good day, a...</td>\n",
       "      <td>aapl</td>\n",
       "      <td>5</td>\n",
       "    </tr>\n",
       "  </tbody>\n",
       "</table>\n",
       "</div>"
      ],
      "text/plain": [
       "                                                href  \\\n",
       "0  /earnings/call-transcripts/2020/04/30/apple-in...   \n",
       "1  /earnings/call-transcripts/2020/01/28/apple-in...   \n",
       "2  /earnings/call-transcripts/2019/10/30/apple-in...   \n",
       "3  /earnings/call-transcripts/2019/07/30/apple-in...   \n",
       "4  /earnings/call-transcripts/2019/04/30/apple-in...   \n",
       "\n",
       "                                          Transcript Ticker  Index  \n",
       "0  [\"OperatorGood day, everyone. Welcome to the A...   aapl      1  \n",
       "1  ['Contents:', '', 'Prepared Remarks', 'Questio...   aapl      2  \n",
       "2  [\"OperatorGood day, everyone. Welcome to the A...   aapl      3  \n",
       "3  ['Contents:', '', 'Prepared Remarks', 'Questio...   aapl      4  \n",
       "4  ['Prepared Remarks:', 'Operator', \"Good day, a...   aapl      5  "
      ]
     },
     "execution_count": 3,
     "metadata": {},
     "output_type": "execute_result"
    }
   ],
   "source": [
    "# Set index\n",
    "df1['Index'] = range(1, len(df1)+1)\n",
    "df1.set_index('Index')\n",
    "df1.head()"
   ]
  },
  {
   "cell_type": "code",
   "execution_count": 4,
   "metadata": {},
   "outputs": [
    {
     "data": {
      "text/html": [
       "<div>\n",
       "<style scoped>\n",
       "    .dataframe tbody tr th:only-of-type {\n",
       "        vertical-align: middle;\n",
       "    }\n",
       "\n",
       "    .dataframe tbody tr th {\n",
       "        vertical-align: top;\n",
       "    }\n",
       "\n",
       "    .dataframe thead th {\n",
       "        text-align: right;\n",
       "    }\n",
       "</style>\n",
       "<table border=\"1\" class=\"dataframe\">\n",
       "  <thead>\n",
       "    <tr style=\"text-align: right;\">\n",
       "      <th></th>\n",
       "      <th>Date</th>\n",
       "      <th>Ticker</th>\n",
       "      <th>Adj_Close</th>\n",
       "    </tr>\n",
       "  </thead>\n",
       "  <tbody>\n",
       "    <tr>\n",
       "      <th>0</th>\n",
       "      <td>1/3/17</td>\n",
       "      <td>MSFT</td>\n",
       "      <td>58.969059</td>\n",
       "    </tr>\n",
       "    <tr>\n",
       "      <th>1</th>\n",
       "      <td>1/3/17</td>\n",
       "      <td>AAPL</td>\n",
       "      <td>110.392334</td>\n",
       "    </tr>\n",
       "    <tr>\n",
       "      <th>2</th>\n",
       "      <td>1/3/17</td>\n",
       "      <td>AMZN</td>\n",
       "      <td>753.669983</td>\n",
       "    </tr>\n",
       "    <tr>\n",
       "      <th>3</th>\n",
       "      <td>1/3/17</td>\n",
       "      <td>FB</td>\n",
       "      <td>116.860001</td>\n",
       "    </tr>\n",
       "    <tr>\n",
       "      <th>4</th>\n",
       "      <td>1/3/17</td>\n",
       "      <td>GOOGL</td>\n",
       "      <td>808.010010</td>\n",
       "    </tr>\n",
       "  </tbody>\n",
       "</table>\n",
       "</div>"
      ],
      "text/plain": [
       "     Date Ticker   Adj_Close\n",
       "0  1/3/17   MSFT   58.969059\n",
       "1  1/3/17   AAPL  110.392334\n",
       "2  1/3/17   AMZN  753.669983\n",
       "3  1/3/17     FB  116.860001\n",
       "4  1/3/17  GOOGL  808.010010"
      ]
     },
     "execution_count": 4,
     "metadata": {},
     "output_type": "execute_result"
    }
   ],
   "source": [
    "stock_data = r\"C:\\Users\\AnEnt\\Documents\\MSBA\\BANA 275 - NLP\\Project\\Company_Stock_Price_Clean.csv\"\n",
    "df2 = pd.read_csv(stock_data)\n",
    "df2.head()"
   ]
  },
  {
   "cell_type": "markdown",
   "metadata": {},
   "source": [
    "## Extract Variables"
   ]
  },
  {
   "cell_type": "markdown",
   "metadata": {},
   "source": [
    "### Date\n",
    "- Year\n",
    "- Month\n",
    "- Day\n",
    "- Date"
   ]
  },
  {
   "cell_type": "code",
   "execution_count": 5,
   "metadata": {},
   "outputs": [],
   "source": [
    "# Split href\n",
    "href = df1['href'].str.split(\"/\",n=6,expand=True)\n",
    "\n",
    "# Drop unnecessary axes\n",
    "href1 = href.drop([0,1,2,6], axis = 1)\n",
    "\n",
    "# Rename Axes\n",
    "href1 = href1.rename(columns = {3:\"Year\",4:\"Month\",5:\"Day\"})\n",
    "href1['Date'] = pd.to_datetime(href1[['Year', 'Month', 'Day']])\n",
    "\n",
    "# Create Index to merge on\n",
    "href1['Index'] = range(1, len(href1)+1)\n",
    "href1.set_index('Index')\n",
    "href1.head()\n",
    "\n",
    "# Join to Original Dataframe \n",
    "df1 = df1.merge(href1, how = 'outer', on = 'Index' )"
   ]
  },
  {
   "cell_type": "markdown",
   "metadata": {},
   "source": [
    "### Quarter"
   ]
  },
  {
   "cell_type": "code",
   "execution_count": 6,
   "metadata": {},
   "outputs": [],
   "source": [
    "# Split existing href\n",
    "href2 = href[6].str.split(r'-\\d',n = 3, expand = True)\n",
    "href3 = href2[0].str.split('-q', n = 4, expand = True)\n",
    "\n",
    "# Rename and drop unnessecary columns\n",
    "href3 = href3.rename(columns = {1:'Quarter'})\n",
    "href3 = href3.drop(columns = [0,2])\n",
    "\n",
    "# Create Index\n",
    "href3['Index'] = range(1, len(href1)+1)\n",
    "href3.set_index('Index')\n",
    "href3.head()\n",
    "\n",
    "# Merge to existing dataframe\n",
    "df1 = df1.merge(href3, how = 'outer', on = 'Index')"
   ]
  },
  {
   "cell_type": "markdown",
   "metadata": {},
   "source": [
    "### Company Name"
   ]
  },
  {
   "cell_type": "code",
   "execution_count": 7,
   "metadata": {},
   "outputs": [],
   "source": [
    "# Split existing href and combine into one column\n",
    "href4 = href2[0].str.split(\"-\",n=6,expand=True)\n",
    "href4['Company Name'] = href4[0]+\" \"+href4[1]\n",
    "\n",
    "# Drop unnecessary columns\n",
    "href4 = href4.filter(['Company Name'])\n",
    "\n",
    "# Create Index\n",
    "href4['Index'] = range(1, len(href1)+1)\n",
    "href4.set_index('Index')\n",
    "\n",
    "# Merge to existing dataframe\n",
    "df1 = df1.merge(href4, how = 'outer', on = 'Index')\n",
    "df1 = df1.drop(columns = ['Index'])"
   ]
  },
  {
   "cell_type": "markdown",
   "metadata": {},
   "source": [
    "## Clean Transcripts"
   ]
  },
  {
   "cell_type": "markdown",
   "metadata": {},
   "source": [
    "### Clean Contractions"
   ]
  },
  {
   "cell_type": "code",
   "execution_count": 8,
   "metadata": {},
   "outputs": [],
   "source": [
    "# Contraction dictionary\n",
    "contractions_dict = {\n",
    "    \"didn't\": 'did not',\n",
    "    \"don't\": 'do not',\n",
    "    \"aren't\": 'are not',\n",
    "    \"can't\": 'cannot',\n",
    "    \"could've\": \"could've\",\n",
    "    \"couldn't\": \"could not\",\n",
    "    \"i'll\": \"i will\",\n",
    "    \"i'd\": \"i would\",\n",
    "    \"i'm\": \"i am\",\n",
    "    \"it'll\": \"it will\",\n",
    "    \"we'll\": \"we will\"\n",
    "    \n",
    "}\n",
    "\n",
    "contractions_re = re.compile('(%s)' % '|'.join(contractions_dict.keys()))\n",
    "\n",
    "def expand_contractions(s, contractions_dict=contractions_dict):\n",
    "    def replace(match):\n",
    "        return contractions_dict[match.group(0)]\n",
    "    return contractions_re.sub(replace, s)"
   ]
  },
  {
   "cell_type": "markdown",
   "metadata": {},
   "source": [
    "### Basic Cleaning"
   ]
  },
  {
   "cell_type": "code",
   "execution_count": 9,
   "metadata": {},
   "outputs": [],
   "source": [
    "# Standard function to clean string\n",
    "def clean(string):\n",
    "    x = string.lower() # lowercases the string\n",
    "    x = expand_contractions(x) # replaces contractions\n",
    "    x = re.sub(r'\\W+', ' ', x) # takes only alpha numeric\n",
    "    return x"
   ]
  },
  {
   "cell_type": "code",
   "execution_count": 10,
   "metadata": {},
   "outputs": [],
   "source": [
    "df1['clean_transcript'] = df1.Transcript.apply(lambda x: clean(x))"
   ]
  },
  {
   "cell_type": "markdown",
   "metadata": {},
   "source": [
    "### Change Data Types"
   ]
  },
  {
   "cell_type": "code",
   "execution_count": 11,
   "metadata": {},
   "outputs": [],
   "source": [
    "df1['Date'] = pd.to_datetime(df1['Date'])"
   ]
  },
  {
   "cell_type": "markdown",
   "metadata": {},
   "source": [
    "### Create dates 1 week before and after"
   ]
  },
  {
   "cell_type": "code",
   "execution_count": 12,
   "metadata": {},
   "outputs": [],
   "source": [
    "df1['Date_1Week_Before'] = df1['Date'] + pd.DateOffset(days = -7)\n",
    "df1['Date_1Week_After'] = df1['Date'] + pd.DateOffset(days = 7)"
   ]
  },
  {
   "cell_type": "markdown",
   "metadata": {},
   "source": [
    "## Clean Stock Data"
   ]
  },
  {
   "cell_type": "markdown",
   "metadata": {},
   "source": [
    "### Change Data Types"
   ]
  },
  {
   "cell_type": "code",
   "execution_count": 13,
   "metadata": {},
   "outputs": [],
   "source": [
    "df2['Ticker'] = df2['Ticker'].astype(str)\n",
    "df2['Ticker'] = df2['Ticker'].str.lower()\n",
    "df2['Date'] = pd.to_datetime(df2['Date'])"
   ]
  },
  {
   "cell_type": "code",
   "execution_count": 14,
   "metadata": {},
   "outputs": [
    {
     "data": {
      "text/html": [
       "<div>\n",
       "<style scoped>\n",
       "    .dataframe tbody tr th:only-of-type {\n",
       "        vertical-align: middle;\n",
       "    }\n",
       "\n",
       "    .dataframe tbody tr th {\n",
       "        vertical-align: top;\n",
       "    }\n",
       "\n",
       "    .dataframe thead th {\n",
       "        text-align: right;\n",
       "    }\n",
       "</style>\n",
       "<table border=\"1\" class=\"dataframe\">\n",
       "  <thead>\n",
       "    <tr style=\"text-align: right;\">\n",
       "      <th></th>\n",
       "      <th>Date</th>\n",
       "      <th>Ticker</th>\n",
       "      <th>Adj_Close</th>\n",
       "    </tr>\n",
       "  </thead>\n",
       "  <tbody>\n",
       "    <tr>\n",
       "      <th>0</th>\n",
       "      <td>2017-01-03</td>\n",
       "      <td>msft</td>\n",
       "      <td>58.969059</td>\n",
       "    </tr>\n",
       "    <tr>\n",
       "      <th>1</th>\n",
       "      <td>2017-01-03</td>\n",
       "      <td>aapl</td>\n",
       "      <td>110.392334</td>\n",
       "    </tr>\n",
       "    <tr>\n",
       "      <th>2</th>\n",
       "      <td>2017-01-03</td>\n",
       "      <td>amzn</td>\n",
       "      <td>753.669983</td>\n",
       "    </tr>\n",
       "    <tr>\n",
       "      <th>3</th>\n",
       "      <td>2017-01-03</td>\n",
       "      <td>fb</td>\n",
       "      <td>116.860001</td>\n",
       "    </tr>\n",
       "    <tr>\n",
       "      <th>4</th>\n",
       "      <td>2017-01-03</td>\n",
       "      <td>googl</td>\n",
       "      <td>808.010010</td>\n",
       "    </tr>\n",
       "  </tbody>\n",
       "</table>\n",
       "</div>"
      ],
      "text/plain": [
       "        Date Ticker   Adj_Close\n",
       "0 2017-01-03   msft   58.969059\n",
       "1 2017-01-03   aapl  110.392334\n",
       "2 2017-01-03   amzn  753.669983\n",
       "3 2017-01-03     fb  116.860001\n",
       "4 2017-01-03  googl  808.010010"
      ]
     },
     "execution_count": 14,
     "metadata": {},
     "output_type": "execute_result"
    }
   ],
   "source": [
    "df2.head()"
   ]
  },
  {
   "cell_type": "markdown",
   "metadata": {},
   "source": [
    "### Merge Datasets"
   ]
  },
  {
   "cell_type": "code",
   "execution_count": 15,
   "metadata": {},
   "outputs": [],
   "source": [
    "test_df = pd.merge(df1, df2, on = ['Date', 'Ticker'], how = 'inner')\n",
    "test2_df = pd.merge(test_df, df2, left_on = ['Date_1Week_Before', 'Ticker'],\n",
    "                                             right_on = ['Date', 'Ticker'], how = 'inner')\n",
    "test3_df = pd.merge(test2_df, df2, left_on = ['Date_1Week_After', 'Ticker'],\n",
    "                                             right_on = ['Date', 'Ticker'], how = 'inner')\n",
    "test4 = test3_df.drop(columns = ['Date_y', 'Date'])\n",
    "test5 = test4.rename(columns = {'Adj_Close_y':'Price_Before', 'Adj_Close':'Price_After', 'Adj_Close_x': 'Adj_Close',\n",
    "                               'Date_x':'Date'})"
   ]
  },
  {
   "cell_type": "markdown",
   "metadata": {},
   "source": [
    "### Clean Transcripts in New Dataset"
   ]
  },
  {
   "cell_type": "code",
   "execution_count": 16,
   "metadata": {},
   "outputs": [],
   "source": [
    "test5['clean_transcript'] = test5.Transcript.apply(lambda x: clean(x))"
   ]
  },
  {
   "cell_type": "code",
   "execution_count": 17,
   "metadata": {},
   "outputs": [],
   "source": [
    "# List of stopwords\n",
    "stop = list(STOPWORDS)\n",
    "\n",
    "# Functions\n",
    "# removes stop words from a clean transcript\n",
    "def remove_stop(string):\n",
    "    wostop = [] # empty list to append to\n",
    "    word = string.split() # splits string into list\n",
    "    for n, i in enumerate(word): # iterates over the list\n",
    "        if i not in stop: # if word in the list not in stop words list\n",
    "            wostop.append(word[n]) # append to wostop list\n",
    "    wostop = ' '.join(wostop) # join wostop list into a string\n",
    "    return wostop # returns a string\n",
    "\n",
    "# Stems word\n",
    "def stem(string):\n",
    "    t = [] # empty list to append\n",
    "    ps = nltk.stem.PorterStemmer() # stem purposes\n",
    "    word = string.split() # split string into list\n",
    "    for item in word: # iterate through list\n",
    "        stem = ps.stem(item) # stem each word\n",
    "        t.append(stem) # add new stem word into list\n",
    "    t = ' '.join(t) # join list of stem words into a string\n",
    "    return t # returns a string"
   ]
  },
  {
   "cell_type": "code",
   "execution_count": 18,
   "metadata": {},
   "outputs": [],
   "source": [
    "test5['clean_transcript2'] = test5.clean_transcript.apply(lambda x: remove_stop(x))"
   ]
  },
  {
   "cell_type": "code",
   "execution_count": 19,
   "metadata": {},
   "outputs": [],
   "source": [
    "test5 = test5.drop(columns = ['clean_transcript'])"
   ]
  },
  {
   "cell_type": "markdown",
   "metadata": {},
   "source": [
    "### Reorder Columns"
   ]
  },
  {
   "cell_type": "code",
   "execution_count": 31,
   "metadata": {},
   "outputs": [
    {
     "data": {
      "text/plain": [
       "{0: 'href',\n",
       " 1: 'Transcript',\n",
       " 2: 'Ticker',\n",
       " 3: 'Year',\n",
       " 4: 'Month',\n",
       " 5: 'Day',\n",
       " 6: 'Date',\n",
       " 7: 'Quarter',\n",
       " 8: 'Company Name',\n",
       " 9: 'Date_1Week_Before',\n",
       " 10: 'Date_1Week_After',\n",
       " 11: 'Adj_Close',\n",
       " 12: 'Price_Before',\n",
       " 13: 'Price_After',\n",
       " 14: 'clean_transcript2'}"
      ]
     },
     "execution_count": 31,
     "metadata": {},
     "output_type": "execute_result"
    }
   ],
   "source": [
    "# Find index of columns\n",
    "colnames = list(test5.columns)\n",
    "col_dict = {}\n",
    "for n,x in enumerate(colnames):\n",
    "    col_dict.update({n:x})\n",
    "col_dict"
   ]
  },
  {
   "cell_type": "code",
   "execution_count": 32,
   "metadata": {},
   "outputs": [
    {
     "data": {
      "text/html": [
       "<div>\n",
       "<style scoped>\n",
       "    .dataframe tbody tr th:only-of-type {\n",
       "        vertical-align: middle;\n",
       "    }\n",
       "\n",
       "    .dataframe tbody tr th {\n",
       "        vertical-align: top;\n",
       "    }\n",
       "\n",
       "    .dataframe thead th {\n",
       "        text-align: right;\n",
       "    }\n",
       "</style>\n",
       "<table border=\"1\" class=\"dataframe\">\n",
       "  <thead>\n",
       "    <tr style=\"text-align: right;\">\n",
       "      <th></th>\n",
       "      <th>Company Name</th>\n",
       "      <th>Ticker</th>\n",
       "      <th>Date</th>\n",
       "      <th>Adj_Close</th>\n",
       "      <th>Year</th>\n",
       "      <th>Quarter</th>\n",
       "      <th>Month</th>\n",
       "      <th>Day</th>\n",
       "      <th>Date_1Week_Before</th>\n",
       "      <th>Price_Before</th>\n",
       "      <th>Date_1Week_After</th>\n",
       "      <th>Price_After</th>\n",
       "      <th>clean_transcript2</th>\n",
       "      <th>Transcript</th>\n",
       "      <th>href</th>\n",
       "    </tr>\n",
       "  </thead>\n",
       "  <tbody>\n",
       "    <tr>\n",
       "      <th>0</th>\n",
       "      <td>apple inc</td>\n",
       "      <td>aapl</td>\n",
       "      <td>2020-04-30</td>\n",
       "      <td>293.006836</td>\n",
       "      <td>2020</td>\n",
       "      <td>2</td>\n",
       "      <td>04</td>\n",
       "      <td>30</td>\n",
       "      <td>2020-04-23</td>\n",
       "      <td>274.287506</td>\n",
       "      <td>2020-05-07</td>\n",
       "      <td>302.919983</td>\n",
       "      <td>operatorgood day everyone welcome apple inc se...</td>\n",
       "      <td>[\"OperatorGood day, everyone. Welcome to the A...</td>\n",
       "      <td>/earnings/call-transcripts/2020/04/30/apple-in...</td>\n",
       "    </tr>\n",
       "    <tr>\n",
       "      <th>1</th>\n",
       "      <td>apple inc</td>\n",
       "      <td>aapl</td>\n",
       "      <td>2020-01-28</td>\n",
       "      <td>316.082184</td>\n",
       "      <td>2020</td>\n",
       "      <td>1</td>\n",
       "      <td>01</td>\n",
       "      <td>28</td>\n",
       "      <td>2020-01-21</td>\n",
       "      <td>314.967865</td>\n",
       "      <td>2020-02-04</td>\n",
       "      <td>317.236298</td>\n",
       "      <td>contents prepared remarks questions answers ca...</td>\n",
       "      <td>['Contents:', '', 'Prepared Remarks', 'Questio...</td>\n",
       "      <td>/earnings/call-transcripts/2020/01/28/apple-in...</td>\n",
       "    </tr>\n",
       "    <tr>\n",
       "      <th>2</th>\n",
       "      <td>apple inc</td>\n",
       "      <td>aapl</td>\n",
       "      <td>2019-10-30</td>\n",
       "      <td>241.304398</td>\n",
       "      <td>2019</td>\n",
       "      <td>4</td>\n",
       "      <td>10</td>\n",
       "      <td>30</td>\n",
       "      <td>2019-10-23</td>\n",
       "      <td>241.225052</td>\n",
       "      <td>2019-11-06</td>\n",
       "      <td>255.172012</td>\n",
       "      <td>operatorgood day everyone welcome apple incorp...</td>\n",
       "      <td>[\"OperatorGood day, everyone. Welcome to the A...</td>\n",
       "      <td>/earnings/call-transcripts/2019/10/30/apple-in...</td>\n",
       "    </tr>\n",
       "    <tr>\n",
       "      <th>3</th>\n",
       "      <td>apple inc</td>\n",
       "      <td>aapl</td>\n",
       "      <td>2019-07-30</td>\n",
       "      <td>206.317688</td>\n",
       "      <td>2019</td>\n",
       "      <td>3</td>\n",
       "      <td>07</td>\n",
       "      <td>30</td>\n",
       "      <td>2019-07-23</td>\n",
       "      <td>206.376984</td>\n",
       "      <td>2019-08-06</td>\n",
       "      <td>194.676621</td>\n",
       "      <td>contents prepared remarks questions answers ca...</td>\n",
       "      <td>['Contents:', '', 'Prepared Remarks', 'Questio...</td>\n",
       "      <td>/earnings/call-transcripts/2019/07/30/apple-in...</td>\n",
       "    </tr>\n",
       "    <tr>\n",
       "      <th>4</th>\n",
       "      <td>apple inc</td>\n",
       "      <td>aapl</td>\n",
       "      <td>2019-04-30</td>\n",
       "      <td>197.542618</td>\n",
       "      <td>2019</td>\n",
       "      <td>2</td>\n",
       "      <td>04</td>\n",
       "      <td>30</td>\n",
       "      <td>2019-04-23</td>\n",
       "      <td>204.246475</td>\n",
       "      <td>2019-05-07</td>\n",
       "      <td>199.698502</td>\n",
       "      <td>prepared remarks operator good day welcome app...</td>\n",
       "      <td>['Prepared Remarks:', 'Operator', \"Good day, a...</td>\n",
       "      <td>/earnings/call-transcripts/2019/04/30/apple-in...</td>\n",
       "    </tr>\n",
       "  </tbody>\n",
       "</table>\n",
       "</div>"
      ],
      "text/plain": [
       "  Company Name Ticker       Date   Adj_Close  Year Quarter Month Day  \\\n",
       "0    apple inc   aapl 2020-04-30  293.006836  2020       2    04  30   \n",
       "1    apple inc   aapl 2020-01-28  316.082184  2020       1    01  28   \n",
       "2    apple inc   aapl 2019-10-30  241.304398  2019       4    10  30   \n",
       "3    apple inc   aapl 2019-07-30  206.317688  2019       3    07  30   \n",
       "4    apple inc   aapl 2019-04-30  197.542618  2019       2    04  30   \n",
       "\n",
       "  Date_1Week_Before  Price_Before Date_1Week_After  Price_After  \\\n",
       "0        2020-04-23    274.287506       2020-05-07   302.919983   \n",
       "1        2020-01-21    314.967865       2020-02-04   317.236298   \n",
       "2        2019-10-23    241.225052       2019-11-06   255.172012   \n",
       "3        2019-07-23    206.376984       2019-08-06   194.676621   \n",
       "4        2019-04-23    204.246475       2019-05-07   199.698502   \n",
       "\n",
       "                                   clean_transcript2  \\\n",
       "0  operatorgood day everyone welcome apple inc se...   \n",
       "1  contents prepared remarks questions answers ca...   \n",
       "2  operatorgood day everyone welcome apple incorp...   \n",
       "3  contents prepared remarks questions answers ca...   \n",
       "4  prepared remarks operator good day welcome app...   \n",
       "\n",
       "                                          Transcript  \\\n",
       "0  [\"OperatorGood day, everyone. Welcome to the A...   \n",
       "1  ['Contents:', '', 'Prepared Remarks', 'Questio...   \n",
       "2  [\"OperatorGood day, everyone. Welcome to the A...   \n",
       "3  ['Contents:', '', 'Prepared Remarks', 'Questio...   \n",
       "4  ['Prepared Remarks:', 'Operator', \"Good day, a...   \n",
       "\n",
       "                                                href  \n",
       "0  /earnings/call-transcripts/2020/04/30/apple-in...  \n",
       "1  /earnings/call-transcripts/2020/01/28/apple-in...  \n",
       "2  /earnings/call-transcripts/2019/10/30/apple-in...  \n",
       "3  /earnings/call-transcripts/2019/07/30/apple-in...  \n",
       "4  /earnings/call-transcripts/2019/04/30/apple-in...  "
      ]
     },
     "execution_count": 32,
     "metadata": {},
     "output_type": "execute_result"
    }
   ],
   "source": [
    "# Reorder column names\n",
    "cols = test5.columns.tolist()\n",
    "myorder = [8,2,6,11,3,7,4,5,9,12,10,13,14,1,0]\n",
    "cols = [cols[i] for i in myorder]\n",
    "test6 = test5[cols]\n",
    "test6.head()"
   ]
  },
  {
   "cell_type": "markdown",
   "metadata": {},
   "source": [
    "### Export Clean Dataset"
   ]
  },
  {
   "cell_type": "code",
   "execution_count": 33,
   "metadata": {},
   "outputs": [],
   "source": [
    "# test5.to_csv('Transcripts_Clean.csv')"
   ]
  }
 ],
 "metadata": {
  "kernelspec": {
   "display_name": "Python 3",
   "language": "python",
   "name": "python3"
  },
  "language_info": {
   "codemirror_mode": {
    "name": "ipython",
    "version": 3
   },
   "file_extension": ".py",
   "mimetype": "text/x-python",
   "name": "python",
   "nbconvert_exporter": "python",
   "pygments_lexer": "ipython3",
   "version": "3.7.3"
  }
 },
 "nbformat": 4,
 "nbformat_minor": 2
}
